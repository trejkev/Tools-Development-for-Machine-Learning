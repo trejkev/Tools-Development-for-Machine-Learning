{
 "cells": [
  {
   "cell_type": "markdown",
   "id": "52926208",
   "metadata": {
    "papermill": {
     "duration": 0.019533,
     "end_time": "2023-07-21T07:48:40.097081",
     "exception": false,
     "start_time": "2023-07-21T07:48:40.077548",
     "status": "completed"
    },
    "tags": []
   },
   "source": [
    "# 1. Import Required Libraries\n",
    "\n",
    "Taken from https://www.kaggle.com/code/mehmetisik/sales-pred-linear-regression-learning-exercise, all the credits for this colab should be attributed to Mehmet Isik."
   ]
  },
  {
   "cell_type": "code",
   "execution_count": 1,
   "id": "6f0aa776",
   "metadata": {
    "execution": {
     "iopub.execute_input": "2023-07-21T07:48:40.139651Z",
     "iopub.status.busy": "2023-07-21T07:48:40.139259Z",
     "iopub.status.idle": "2023-07-21T07:48:41.867043Z",
     "shell.execute_reply": "2023-07-21T07:48:41.866130Z"
    },
    "papermill": {
     "duration": 1.752796,
     "end_time": "2023-07-21T07:48:41.869815",
     "exception": false,
     "start_time": "2023-07-21T07:48:40.117019",
     "status": "completed"
    },
    "tags": []
   },
   "outputs": [
    {
     "name": "stderr",
     "output_type": "stream",
     "text": [
      "/opt/conda/lib/python3.10/site-packages/scipy/__init__.py:146: UserWarning: A NumPy version >=1.16.5 and <1.23.0 is required for this version of SciPy (detected version 1.23.5\n",
      "  warnings.warn(f\"A NumPy version >={np_minversion} and <{np_maxversion}\"\n"
     ]
    }
   ],
   "source": [
    "import numpy as np\n",
    "import pandas as pd\n",
    "import matplotlib.pyplot as plt\n",
    "import seaborn as sns\n",
    "\n",
    "from sklearn.linear_model import LinearRegression\n",
    "from sklearn.metrics import mean_squared_error, mean_absolute_error\n",
    "from sklearn.model_selection import train_test_split, cross_val_score"
   ]
  },
  {
   "cell_type": "markdown",
   "id": "570379bb",
   "metadata": {
    "papermill": {
     "duration": 0.018871,
     "end_time": "2023-07-21T07:48:41.908205",
     "exception": false,
     "start_time": "2023-07-21T07:48:41.889334",
     "status": "completed"
    },
    "tags": []
   },
   "source": [
    "# 2. Adjusting Row Column Settings"
   ]
  },
  {
   "cell_type": "code",
   "execution_count": 2,
   "id": "0e3ac6b3",
   "metadata": {
    "execution": {
     "iopub.execute_input": "2023-07-21T07:48:41.948989Z",
     "iopub.status.busy": "2023-07-21T07:48:41.948185Z",
     "iopub.status.idle": "2023-07-21T07:48:41.954027Z",
     "shell.execute_reply": "2023-07-21T07:48:41.953224Z"
    },
    "papermill": {
     "duration": 0.028933,
     "end_time": "2023-07-21T07:48:41.956314",
     "exception": false,
     "start_time": "2023-07-21T07:48:41.927381",
     "status": "completed"
    },
    "tags": []
   },
   "outputs": [],
   "source": [
    "pd.set_option('display.max_columns', None)\n",
    "pd.set_option('display.width', 1000)\n",
    "pd.set_option('display.max_rows', None)\n",
    "pd.set_option('display.float_format', lambda x: '%.3f' % x)"
   ]
  },
  {
   "cell_type": "markdown",
   "id": "3f5e4962",
   "metadata": {
    "papermill": {
     "duration": 0.02015,
     "end_time": "2023-07-21T07:48:41.995981",
     "exception": false,
     "start_time": "2023-07-21T07:48:41.975831",
     "status": "completed"
    },
    "tags": []
   },
   "source": [
    "# 3. Loading the data Set"
   ]
  },
  {
   "cell_type": "code",
   "execution_count": 3,
   "id": "c0271588",
   "metadata": {
    "execution": {
     "iopub.execute_input": "2023-07-21T07:48:42.037808Z",
     "iopub.status.busy": "2023-07-21T07:48:42.037019Z",
     "iopub.status.idle": "2023-07-21T07:48:42.057217Z",
     "shell.execute_reply": "2023-07-21T07:48:42.056319Z"
    },
    "papermill": {
     "duration": 0.043808,
     "end_time": "2023-07-21T07:48:42.059890",
     "exception": false,
     "start_time": "2023-07-21T07:48:42.016082",
     "status": "completed"
    },
    "tags": []
   },
   "outputs": [],
   "source": [
    "df = pd.read_csv(\"/kaggle/input/advertisingcsv/advertising.csv\")"
   ]
  },
  {
   "cell_type": "markdown",
   "id": "2000dcb0",
   "metadata": {
    "papermill": {
     "duration": 0.019972,
     "end_time": "2023-07-21T07:48:42.100696",
     "exception": false,
     "start_time": "2023-07-21T07:48:42.080724",
     "status": "completed"
    },
    "tags": []
   },
   "source": [
    "# 4. Exploratory Data Analysis"
   ]
  },
  {
   "cell_type": "code",
   "execution_count": 4,
   "id": "77c56e1b",
   "metadata": {
    "execution": {
     "iopub.execute_input": "2023-07-21T07:48:42.143494Z",
     "iopub.status.busy": "2023-07-21T07:48:42.143085Z",
     "iopub.status.idle": "2023-07-21T07:48:42.176555Z",
     "shell.execute_reply": "2023-07-21T07:48:42.175312Z"
    },
    "papermill": {
     "duration": 0.05801,
     "end_time": "2023-07-21T07:48:42.179144",
     "exception": false,
     "start_time": "2023-07-21T07:48:42.121134",
     "status": "completed"
    },
    "tags": []
   },
   "outputs": [
    {
     "name": "stdout",
     "output_type": "stream",
     "text": [
      "##################### Shape #####################\n",
      "(200, 4)\n",
      "##################### Types #####################\n",
      "TV           float64\n",
      "radio        float64\n",
      "newspaper    float64\n",
      "sales        float64\n",
      "dtype: object\n",
      "##################### Head #####################\n",
      "       TV  radio  newspaper  sales\n",
      "0 230.100 37.800     69.200 22.100\n",
      "1  44.500 39.300     45.100 10.400\n",
      "2  17.200 45.900     69.300  9.300\n",
      "3 151.500 41.300     58.500 18.500\n",
      "4 180.800 10.800     58.400 12.900\n",
      "##################### Tail #####################\n",
      "         TV  radio  newspaper  sales\n",
      "195  38.200  3.700     13.800  7.600\n",
      "196  94.200  4.900      8.100  9.700\n",
      "197 177.000  9.300      6.400 12.800\n",
      "198 283.600 42.000     66.200 25.500\n",
      "199 232.100  8.600      8.700 13.400\n",
      "##################### NA #####################\n",
      "TV           0\n",
      "radio        0\n",
      "newspaper    0\n",
      "sales        0\n",
      "dtype: int64\n",
      "##################### Quantiles #####################\n",
      "           0.000  0.050   0.500   0.950   0.990   1.000\n",
      "TV         0.700 13.195 149.750 280.735 292.907 296.400\n",
      "radio      0.000  1.995  22.900  46.810  49.400  49.600\n",
      "newspaper  0.300  3.600  25.750  71.825  89.515 114.000\n",
      "sales      1.600  6.600  12.900  23.800  25.507  27.000\n"
     ]
    }
   ],
   "source": [
    "def check_df(dataframe, head=5):\n",
    "    print(\"##################### Shape #####################\")\n",
    "    print(dataframe.shape)\n",
    "    print(\"##################### Types #####################\")\n",
    "    print(dataframe.dtypes)\n",
    "    print(\"##################### Head #####################\")\n",
    "    print(dataframe.head(head))\n",
    "    print(\"##################### Tail #####################\")\n",
    "    print(dataframe.tail(head))\n",
    "    print(\"##################### NA #####################\")\n",
    "    print(dataframe.isnull().sum())\n",
    "    print(\"##################### Quantiles #####################\")\n",
    "    print(dataframe.quantile([0, 0.05, 0.50, 0.95, 0.99, 1]).T)\n",
    "\n",
    "check_df(df)"
   ]
  },
  {
   "cell_type": "markdown",
   "id": "f6143d3a",
   "metadata": {
    "papermill": {
     "duration": 0.020548,
     "end_time": "2023-07-21T07:48:42.219176",
     "exception": false,
     "start_time": "2023-07-21T07:48:42.198628",
     "status": "completed"
    },
    "tags": []
   },
   "source": [
    "# 4. Simple Linear Regression with OLS Using Scikit-Learn"
   ]
  },
  {
   "cell_type": "code",
   "execution_count": 5,
   "id": "d27752da",
   "metadata": {
    "execution": {
     "iopub.execute_input": "2023-07-21T07:48:42.261897Z",
     "iopub.status.busy": "2023-07-21T07:48:42.261517Z",
     "iopub.status.idle": "2023-07-21T07:48:42.267053Z",
     "shell.execute_reply": "2023-07-21T07:48:42.265642Z"
    },
    "papermill": {
     "duration": 0.03024,
     "end_time": "2023-07-21T07:48:42.269532",
     "exception": false,
     "start_time": "2023-07-21T07:48:42.239292",
     "status": "completed"
    },
    "tags": []
   },
   "outputs": [],
   "source": [
    "# Modelling"
   ]
  },
  {
   "cell_type": "code",
   "execution_count": 6,
   "id": "7a6f491e",
   "metadata": {
    "execution": {
     "iopub.execute_input": "2023-07-21T07:48:42.312648Z",
     "iopub.status.busy": "2023-07-21T07:48:42.311481Z",
     "iopub.status.idle": "2023-07-21T07:48:42.323587Z",
     "shell.execute_reply": "2023-07-21T07:48:42.322207Z"
    },
    "papermill": {
     "duration": 0.037095,
     "end_time": "2023-07-21T07:48:42.326210",
     "exception": false,
     "start_time": "2023-07-21T07:48:42.289115",
     "status": "completed"
    },
    "tags": []
   },
   "outputs": [],
   "source": [
    "# Dependent variable\n",
    "y = df[[\"sales\"]]\n",
    "\n",
    "# Independent variable\n",
    "X = df[[\"TV\"]]"
   ]
  },
  {
   "cell_type": "code",
   "execution_count": 7,
   "id": "b4bc212e",
   "metadata": {
    "execution": {
     "iopub.execute_input": "2023-07-21T07:48:42.368929Z",
     "iopub.status.busy": "2023-07-21T07:48:42.368487Z",
     "iopub.status.idle": "2023-07-21T07:48:42.389421Z",
     "shell.execute_reply": "2023-07-21T07:48:42.388566Z"
    },
    "papermill": {
     "duration": 0.046072,
     "end_time": "2023-07-21T07:48:42.392007",
     "exception": false,
     "start_time": "2023-07-21T07:48:42.345935",
     "status": "completed"
    },
    "tags": []
   },
   "outputs": [],
   "source": [
    "# The model object was created and fit was done.\n",
    "reg_model = LinearRegression().fit(X, y)"
   ]
  },
  {
   "cell_type": "code",
   "execution_count": 8,
   "id": "8835d57c",
   "metadata": {
    "execution": {
     "iopub.execute_input": "2023-07-21T07:48:42.435467Z",
     "iopub.status.busy": "2023-07-21T07:48:42.434552Z",
     "iopub.status.idle": "2023-07-21T07:48:42.443272Z",
     "shell.execute_reply": "2023-07-21T07:48:42.442155Z"
    },
    "papermill": {
     "duration": 0.034127,
     "end_time": "2023-07-21T07:48:42.445694",
     "exception": false,
     "start_time": "2023-07-21T07:48:42.411567",
     "status": "completed"
    },
    "tags": []
   },
   "outputs": [
    {
     "data": {
      "text/plain": [
       "7.032593549127695"
      ]
     },
     "execution_count": 8,
     "metadata": {},
     "output_type": "execute_result"
    }
   ],
   "source": [
    "reg_model.intercept_[0]"
   ]
  },
  {
   "cell_type": "code",
   "execution_count": 9,
   "id": "e00613f4",
   "metadata": {
    "execution": {
     "iopub.execute_input": "2023-07-21T07:48:42.488703Z",
     "iopub.status.busy": "2023-07-21T07:48:42.487152Z",
     "iopub.status.idle": "2023-07-21T07:48:42.496522Z",
     "shell.execute_reply": "2023-07-21T07:48:42.495509Z"
    },
    "papermill": {
     "duration": 0.033008,
     "end_time": "2023-07-21T07:48:42.498961",
     "exception": false,
     "start_time": "2023-07-21T07:48:42.465953",
     "status": "completed"
    },
    "tags": []
   },
   "outputs": [
    {
     "data": {
      "text/plain": [
       "0.04753664043301975"
      ]
     },
     "execution_count": 9,
     "metadata": {},
     "output_type": "execute_result"
    }
   ],
   "source": [
    "reg_model.coef_[0][0]"
   ]
  },
  {
   "cell_type": "code",
   "execution_count": 10,
   "id": "52366500",
   "metadata": {
    "execution": {
     "iopub.execute_input": "2023-07-21T07:48:42.541305Z",
     "iopub.status.busy": "2023-07-21T07:48:42.540528Z",
     "iopub.status.idle": "2023-07-21T07:48:42.545454Z",
     "shell.execute_reply": "2023-07-21T07:48:42.544515Z"
    },
    "papermill": {
     "duration": 0.029117,
     "end_time": "2023-07-21T07:48:42.547998",
     "exception": false,
     "start_time": "2023-07-21T07:48:42.518881",
     "status": "completed"
    },
    "tags": []
   },
   "outputs": [],
   "source": [
    "# y_hat = b + w*TV\n",
    "\n",
    "# y_hat = reg_model.intercept_[0] + reg_model.coef_[0][0] * TV\n",
    "\n",
    "# y_hat = 7.032593549127693 + 0.047536640433019764 * TV"
   ]
  },
  {
   "cell_type": "code",
   "execution_count": 11,
   "id": "0ba6c68a",
   "metadata": {
    "execution": {
     "iopub.execute_input": "2023-07-21T07:48:42.591584Z",
     "iopub.status.busy": "2023-07-21T07:48:42.591159Z",
     "iopub.status.idle": "2023-07-21T07:48:42.597097Z",
     "shell.execute_reply": "2023-07-21T07:48:42.595354Z"
    },
    "papermill": {
     "duration": 0.031585,
     "end_time": "2023-07-21T07:48:42.599776",
     "exception": false,
     "start_time": "2023-07-21T07:48:42.568191",
     "status": "completed"
    },
    "tags": []
   },
   "outputs": [],
   "source": [
    "# Prediction"
   ]
  },
  {
   "cell_type": "code",
   "execution_count": 12,
   "id": "26a89e5b",
   "metadata": {
    "execution": {
     "iopub.execute_input": "2023-07-21T07:48:42.642018Z",
     "iopub.status.busy": "2023-07-21T07:48:42.641358Z",
     "iopub.status.idle": "2023-07-21T07:48:42.648861Z",
     "shell.execute_reply": "2023-07-21T07:48:42.647678Z"
    },
    "papermill": {
     "duration": 0.031576,
     "end_time": "2023-07-21T07:48:42.651147",
     "exception": false,
     "start_time": "2023-07-21T07:48:42.619571",
     "status": "completed"
    },
    "tags": []
   },
   "outputs": [
    {
     "data": {
      "text/plain": [
       "14.163089614080658"
      ]
     },
     "execution_count": 12,
     "metadata": {},
     "output_type": "execute_result"
    }
   ],
   "source": [
    "# How much sales would be expected if there were 150 units of TV spending?\n",
    "\n",
    "reg_model.intercept_[0] + reg_model.coef_[0][0]*150"
   ]
  },
  {
   "cell_type": "code",
   "execution_count": 13,
   "id": "16735b45",
   "metadata": {
    "execution": {
     "iopub.execute_input": "2023-07-21T07:48:42.692825Z",
     "iopub.status.busy": "2023-07-21T07:48:42.692149Z",
     "iopub.status.idle": "2023-07-21T07:48:42.700093Z",
     "shell.execute_reply": "2023-07-21T07:48:42.698419Z"
    },
    "papermill": {
     "duration": 0.031812,
     "end_time": "2023-07-21T07:48:42.702700",
     "exception": false,
     "start_time": "2023-07-21T07:48:42.670888",
     "status": "completed"
    },
    "tags": []
   },
   "outputs": [
    {
     "data": {
      "text/plain": [
       "30.800913765637567"
      ]
     },
     "execution_count": 13,
     "metadata": {},
     "output_type": "execute_result"
    }
   ],
   "source": [
    "# How much sales would there be if there were 500 units of TV spending?\n",
    "\n",
    "reg_model.intercept_[0] + reg_model.coef_[0][0]*500"
   ]
  },
  {
   "cell_type": "code",
   "execution_count": 14,
   "id": "64afe278",
   "metadata": {
    "execution": {
     "iopub.execute_input": "2023-07-21T07:48:42.748713Z",
     "iopub.status.busy": "2023-07-21T07:48:42.747824Z",
     "iopub.status.idle": "2023-07-21T07:48:42.775044Z",
     "shell.execute_reply": "2023-07-21T07:48:42.773769Z"
    },
    "papermill": {
     "duration": 0.054013,
     "end_time": "2023-07-21T07:48:42.777946",
     "exception": false,
     "start_time": "2023-07-21T07:48:42.723933",
     "status": "completed"
    },
    "tags": []
   },
   "outputs": [
    {
     "data": {
      "text/html": [
       "<div>\n",
       "<style scoped>\n",
       "    .dataframe tbody tr th:only-of-type {\n",
       "        vertical-align: middle;\n",
       "    }\n",
       "\n",
       "    .dataframe tbody tr th {\n",
       "        vertical-align: top;\n",
       "    }\n",
       "\n",
       "    .dataframe thead th {\n",
       "        text-align: right;\n",
       "    }\n",
       "</style>\n",
       "<table border=\"1\" class=\"dataframe\">\n",
       "  <thead>\n",
       "    <tr style=\"text-align: right;\">\n",
       "      <th></th>\n",
       "      <th>count</th>\n",
       "      <th>mean</th>\n",
       "      <th>std</th>\n",
       "      <th>min</th>\n",
       "      <th>25%</th>\n",
       "      <th>50%</th>\n",
       "      <th>75%</th>\n",
       "      <th>max</th>\n",
       "    </tr>\n",
       "  </thead>\n",
       "  <tbody>\n",
       "    <tr>\n",
       "      <th>TV</th>\n",
       "      <td>200.000</td>\n",
       "      <td>147.042</td>\n",
       "      <td>85.854</td>\n",
       "      <td>0.700</td>\n",
       "      <td>74.375</td>\n",
       "      <td>149.750</td>\n",
       "      <td>218.825</td>\n",
       "      <td>296.400</td>\n",
       "    </tr>\n",
       "    <tr>\n",
       "      <th>radio</th>\n",
       "      <td>200.000</td>\n",
       "      <td>23.264</td>\n",
       "      <td>14.847</td>\n",
       "      <td>0.000</td>\n",
       "      <td>9.975</td>\n",
       "      <td>22.900</td>\n",
       "      <td>36.525</td>\n",
       "      <td>49.600</td>\n",
       "    </tr>\n",
       "    <tr>\n",
       "      <th>newspaper</th>\n",
       "      <td>200.000</td>\n",
       "      <td>30.554</td>\n",
       "      <td>21.779</td>\n",
       "      <td>0.300</td>\n",
       "      <td>12.750</td>\n",
       "      <td>25.750</td>\n",
       "      <td>45.100</td>\n",
       "      <td>114.000</td>\n",
       "    </tr>\n",
       "    <tr>\n",
       "      <th>sales</th>\n",
       "      <td>200.000</td>\n",
       "      <td>14.023</td>\n",
       "      <td>5.217</td>\n",
       "      <td>1.600</td>\n",
       "      <td>10.375</td>\n",
       "      <td>12.900</td>\n",
       "      <td>17.400</td>\n",
       "      <td>27.000</td>\n",
       "    </tr>\n",
       "  </tbody>\n",
       "</table>\n",
       "</div>"
      ],
      "text/plain": [
       "            count    mean    std   min    25%     50%     75%     max\n",
       "TV        200.000 147.042 85.854 0.700 74.375 149.750 218.825 296.400\n",
       "radio     200.000  23.264 14.847 0.000  9.975  22.900  36.525  49.600\n",
       "newspaper 200.000  30.554 21.779 0.300 12.750  25.750  45.100 114.000\n",
       "sales     200.000  14.023  5.217 1.600 10.375  12.900  17.400  27.000"
      ]
     },
     "execution_count": 14,
     "metadata": {},
     "output_type": "execute_result"
    }
   ],
   "source": [
    "df.describe().T"
   ]
  },
  {
   "cell_type": "code",
   "execution_count": 15,
   "id": "5e1bb237",
   "metadata": {
    "execution": {
     "iopub.execute_input": "2023-07-21T07:48:42.822088Z",
     "iopub.status.busy": "2023-07-21T07:48:42.821723Z",
     "iopub.status.idle": "2023-07-21T07:48:42.826368Z",
     "shell.execute_reply": "2023-07-21T07:48:42.825164Z"
    },
    "papermill": {
     "duration": 0.029887,
     "end_time": "2023-07-21T07:48:42.828993",
     "exception": false,
     "start_time": "2023-07-21T07:48:42.799106",
     "status": "completed"
    },
    "tags": []
   },
   "outputs": [],
   "source": [
    "# Visualization of the Model"
   ]
  },
  {
   "cell_type": "code",
   "execution_count": 16,
   "id": "cd4cbba0",
   "metadata": {
    "execution": {
     "iopub.execute_input": "2023-07-21T07:48:42.872647Z",
     "iopub.status.busy": "2023-07-21T07:48:42.872184Z",
     "iopub.status.idle": "2023-07-21T07:48:43.365523Z",
     "shell.execute_reply": "2023-07-21T07:48:43.364338Z"
    },
    "papermill": {
     "duration": 0.519967,
     "end_time": "2023-07-21T07:48:43.369377",
     "exception": false,
     "start_time": "2023-07-21T07:48:42.849410",
     "status": "completed"
    },
    "tags": []
   },
   "outputs": [
    {
     "data": {
      "image/png": "[encoded data removed]",
      "text/plain": [
       "<Figure size 640x480 with 1 Axes>"
      ]
     },
     "metadata": {},
     "output_type": "display_data"
    }
   ],
   "source": [
    "g = sns.regplot(x=X, y=y, scatter_kws={'color': 'b', 's': 9},\n",
    "                ci=False, color=\"r\")\n",
    "\n",
    "g.set_title(f\"Model Denklemi: Sales = {round(reg_model.intercept_[0], 2)} + TV*{round(reg_model.coef_[0][0], 2)}\")\n",
    "\n",
    "g.set_ylabel(\"Satış Sayısı\")\n",
    "\n",
    "g.set_xlabel(\"TV Harcamaları\")\n",
    "\n",
    "plt.xlim(-10, 310)\n",
    "\n",
    "plt.ylim(bottom=0)\n",
    "\n",
    "plt.show(block=True)"
   ]
  },
  {
   "cell_type": "code",
   "execution_count": 17,
   "id": "a06838dc",
   "metadata": {
    "execution": {
     "iopub.execute_input": "2023-07-21T07:48:43.414136Z",
     "iopub.status.busy": "2023-07-21T07:48:43.413490Z",
     "iopub.status.idle": "2023-07-21T07:48:43.417960Z",
     "shell.execute_reply": "2023-07-21T07:48:43.417153Z"
    },
    "papermill": {
     "duration": 0.029469,
     "end_time": "2023-07-21T07:48:43.420129",
     "exception": false,
     "start_time": "2023-07-21T07:48:43.390660",
     "status": "completed"
    },
    "tags": []
   },
   "outputs": [],
   "source": [
    "# Prediction Success"
   ]
  },
  {
   "cell_type": "code",
   "execution_count": 18,
   "id": "dc66439e",
   "metadata": {
    "execution": {
     "iopub.execute_input": "2023-07-21T07:48:43.465004Z",
     "iopub.status.busy": "2023-07-21T07:48:43.464363Z",
     "iopub.status.idle": "2023-07-21T07:48:43.468903Z",
     "shell.execute_reply": "2023-07-21T07:48:43.468042Z"
    },
    "papermill": {
     "duration": 0.029816,
     "end_time": "2023-07-21T07:48:43.471026",
     "exception": false,
     "start_time": "2023-07-21T07:48:43.441210",
     "status": "completed"
    },
    "tags": []
   },
   "outputs": [],
   "source": [
    "# MSE"
   ]
  },
  {
   "cell_type": "code",
   "execution_count": 19,
   "id": "d8ecc280",
   "metadata": {
    "execution": {
     "iopub.execute_input": "2023-07-21T07:48:43.516791Z",
     "iopub.status.busy": "2023-07-21T07:48:43.516139Z",
     "iopub.status.idle": "2023-07-21T07:48:43.523053Z",
     "shell.execute_reply": "2023-07-21T07:48:43.522018Z"
    },
    "papermill": {
     "duration": 0.03371,
     "end_time": "2023-07-21T07:48:43.525644",
     "exception": false,
     "start_time": "2023-07-21T07:48:43.491934",
     "status": "completed"
    },
    "tags": []
   },
   "outputs": [],
   "source": [
    "y_pred = reg_model.predict(X)"
   ]
  },
  {
   "cell_type": "code",
   "execution_count": 20,
   "id": "29003311",
   "metadata": {
    "execution": {
     "iopub.execute_input": "2023-07-21T07:48:43.574065Z",
     "iopub.status.busy": "2023-07-21T07:48:43.573435Z",
     "iopub.status.idle": "2023-07-21T07:48:43.583890Z",
     "shell.execute_reply": "2023-07-21T07:48:43.581825Z"
    },
    "papermill": {
     "duration": 0.038767,
     "end_time": "2023-07-21T07:48:43.586968",
     "exception": false,
     "start_time": "2023-07-21T07:48:43.548201",
     "status": "completed"
    },
    "tags": []
   },
   "outputs": [
    {
     "data": {
      "text/plain": [
       "10.512652915656757"
      ]
     },
     "execution_count": 20,
     "metadata": {},
     "output_type": "execute_result"
    }
   ],
   "source": [
    "mean_squared_error(y, y_pred)"
   ]
  },
  {
   "cell_type": "code",
   "execution_count": 21,
   "id": "b233d4ac",
   "metadata": {
    "execution": {
     "iopub.execute_input": "2023-07-21T07:48:43.632140Z",
     "iopub.status.busy": "2023-07-21T07:48:43.631544Z",
     "iopub.status.idle": "2023-07-21T07:48:43.639553Z",
     "shell.execute_reply": "2023-07-21T07:48:43.638460Z"
    },
    "papermill": {
     "duration": 0.033229,
     "end_time": "2023-07-21T07:48:43.642145",
     "exception": false,
     "start_time": "2023-07-21T07:48:43.608916",
     "status": "completed"
    },
    "tags": []
   },
   "outputs": [
    {
     "data": {
      "text/plain": [
       "sales   14.023\n",
       "dtype: float64"
      ]
     },
     "execution_count": 21,
     "metadata": {},
     "output_type": "execute_result"
    }
   ],
   "source": [
    "y.mean()"
   ]
  },
  {
   "cell_type": "code",
   "execution_count": 22,
   "id": "a7ea0c6c",
   "metadata": {
    "execution": {
     "iopub.execute_input": "2023-07-21T07:48:43.689288Z",
     "iopub.status.busy": "2023-07-21T07:48:43.688649Z",
     "iopub.status.idle": "2023-07-21T07:48:43.696005Z",
     "shell.execute_reply": "2023-07-21T07:48:43.695116Z"
    },
    "papermill": {
     "duration": 0.034017,
     "end_time": "2023-07-21T07:48:43.698141",
     "exception": false,
     "start_time": "2023-07-21T07:48:43.664124",
     "status": "completed"
    },
    "tags": []
   },
   "outputs": [
    {
     "data": {
      "text/plain": [
       "sales   5.217\n",
       "dtype: float64"
      ]
     },
     "execution_count": 22,
     "metadata": {},
     "output_type": "execute_result"
    }
   ],
   "source": [
    "y.std()"
   ]
  },
  {
   "cell_type": "code",
   "execution_count": 23,
   "id": "a199bf82",
   "metadata": {
    "execution": {
     "iopub.execute_input": "2023-07-21T07:48:43.744877Z",
     "iopub.status.busy": "2023-07-21T07:48:43.744228Z",
     "iopub.status.idle": "2023-07-21T07:48:43.748658Z",
     "shell.execute_reply": "2023-07-21T07:48:43.747747Z"
    },
    "papermill": {
     "duration": 0.030712,
     "end_time": "2023-07-21T07:48:43.751623",
     "exception": false,
     "start_time": "2023-07-21T07:48:43.720911",
     "status": "completed"
    },
    "tags": []
   },
   "outputs": [],
   "source": [
    "# RMSE"
   ]
  },
  {
   "cell_type": "code",
   "execution_count": 24,
   "id": "988db869",
   "metadata": {
    "execution": {
     "iopub.execute_input": "2023-07-21T07:48:43.797912Z",
     "iopub.status.busy": "2023-07-21T07:48:43.797107Z",
     "iopub.status.idle": "2023-07-21T07:48:43.806531Z",
     "shell.execute_reply": "2023-07-21T07:48:43.805166Z"
    },
    "papermill": {
     "duration": 0.035368,
     "end_time": "2023-07-21T07:48:43.809218",
     "exception": false,
     "start_time": "2023-07-21T07:48:43.773850",
     "status": "completed"
    },
    "tags": []
   },
   "outputs": [
    {
     "data": {
      "text/plain": [
       "3.2423221486546887"
      ]
     },
     "execution_count": 24,
     "metadata": {},
     "output_type": "execute_result"
    }
   ],
   "source": [
    "np.sqrt(mean_squared_error(y, y_pred))"
   ]
  },
  {
   "cell_type": "code",
   "execution_count": 25,
   "id": "12e828ec",
   "metadata": {
    "execution": {
     "iopub.execute_input": "2023-07-21T07:48:43.855995Z",
     "iopub.status.busy": "2023-07-21T07:48:43.855350Z",
     "iopub.status.idle": "2023-07-21T07:48:43.859985Z",
     "shell.execute_reply": "2023-07-21T07:48:43.859054Z"
    },
    "papermill": {
     "duration": 0.030695,
     "end_time": "2023-07-21T07:48:43.862517",
     "exception": false,
     "start_time": "2023-07-21T07:48:43.831822",
     "status": "completed"
    },
    "tags": []
   },
   "outputs": [],
   "source": [
    "# MAE"
   ]
  },
  {
   "cell_type": "code",
   "execution_count": 26,
   "id": "e627b7c7",
   "metadata": {
    "execution": {
     "iopub.execute_input": "2023-07-21T07:48:43.908212Z",
     "iopub.status.busy": "2023-07-21T07:48:43.907832Z",
     "iopub.status.idle": "2023-07-21T07:48:43.916603Z",
     "shell.execute_reply": "2023-07-21T07:48:43.915650Z"
    },
    "papermill": {
     "duration": 0.034044,
     "end_time": "2023-07-21T07:48:43.918713",
     "exception": false,
     "start_time": "2023-07-21T07:48:43.884669",
     "status": "completed"
    },
    "tags": []
   },
   "outputs": [
    {
     "data": {
      "text/plain": [
       "2.549806038927486"
      ]
     },
     "execution_count": 26,
     "metadata": {},
     "output_type": "execute_result"
    }
   ],
   "source": [
    "mean_absolute_error(y, y_pred)"
   ]
  },
  {
   "cell_type": "code",
   "execution_count": 27,
   "id": "bfc567bc",
   "metadata": {
    "execution": {
     "iopub.execute_input": "2023-07-21T07:48:43.966239Z",
     "iopub.status.busy": "2023-07-21T07:48:43.965850Z",
     "iopub.status.idle": "2023-07-21T07:48:43.970721Z",
     "shell.execute_reply": "2023-07-21T07:48:43.969269Z"
    },
    "papermill": {
     "duration": 0.032591,
     "end_time": "2023-07-21T07:48:43.973408",
     "exception": false,
     "start_time": "2023-07-21T07:48:43.940817",
     "status": "completed"
    },
    "tags": []
   },
   "outputs": [],
   "source": [
    "# R-KARE"
   ]
  },
  {
   "cell_type": "code",
   "execution_count": 28,
   "id": "bece6839",
   "metadata": {
    "execution": {
     "iopub.execute_input": "2023-07-21T07:48:44.020032Z",
     "iopub.status.busy": "2023-07-21T07:48:44.019597Z",
     "iopub.status.idle": "2023-07-21T07:48:44.029838Z",
     "shell.execute_reply": "2023-07-21T07:48:44.028677Z"
    },
    "papermill": {
     "duration": 0.036898,
     "end_time": "2023-07-21T07:48:44.032168",
     "exception": false,
     "start_time": "2023-07-21T07:48:43.995270",
     "status": "completed"
    },
    "tags": []
   },
   "outputs": [
    {
     "data": {
      "text/plain": [
       "0.611875050850071"
      ]
     },
     "execution_count": 28,
     "metadata": {},
     "output_type": "execute_result"
    }
   ],
   "source": [
    "reg_model.score(X, y)"
   ]
  },
  {
   "cell_type": "markdown",
   "id": "f86cbff8",
   "metadata": {
    "papermill": {
     "duration": 0.02318,
     "end_time": "2023-07-21T07:48:44.079108",
     "exception": false,
     "start_time": "2023-07-21T07:48:44.055928",
     "status": "completed"
    },
    "tags": []
   },
   "source": [
    "# 5. Multiple Linear Regression"
   ]
  },
  {
   "cell_type": "code",
   "execution_count": 29,
   "id": "c8dc52c0",
   "metadata": {
    "execution": {
     "iopub.execute_input": "2023-07-21T07:48:44.127543Z",
     "iopub.status.busy": "2023-07-21T07:48:44.126583Z",
     "iopub.status.idle": "2023-07-21T07:48:44.130891Z",
     "shell.execute_reply": "2023-07-21T07:48:44.130036Z"
    },
    "papermill": {
     "duration": 0.030565,
     "end_time": "2023-07-21T07:48:44.133175",
     "exception": false,
     "start_time": "2023-07-21T07:48:44.102610",
     "status": "completed"
    },
    "tags": []
   },
   "outputs": [],
   "source": [
    "# Loading the data Set"
   ]
  },
  {
   "cell_type": "code",
   "execution_count": 30,
   "id": "d5ad3efc",
   "metadata": {
    "execution": {
     "iopub.execute_input": "2023-07-21T07:48:44.180861Z",
     "iopub.status.busy": "2023-07-21T07:48:44.179526Z",
     "iopub.status.idle": "2023-07-21T07:48:44.188776Z",
     "shell.execute_reply": "2023-07-21T07:48:44.187950Z"
    },
    "papermill": {
     "duration": 0.035838,
     "end_time": "2023-07-21T07:48:44.191763",
     "exception": false,
     "start_time": "2023-07-21T07:48:44.155925",
     "status": "completed"
    },
    "tags": []
   },
   "outputs": [],
   "source": [
    "dff = pd.read_csv(\"/kaggle/input/advertisingcsv/advertising.csv\")"
   ]
  },
  {
   "cell_type": "code",
   "execution_count": 31,
   "id": "c5556e6f",
   "metadata": {
    "execution": {
     "iopub.execute_input": "2023-07-21T07:48:44.240448Z",
     "iopub.status.busy": "2023-07-21T07:48:44.240034Z",
     "iopub.status.idle": "2023-07-21T07:48:44.244286Z",
     "shell.execute_reply": "2023-07-21T07:48:44.243301Z"
    },
    "papermill": {
     "duration": 0.031963,
     "end_time": "2023-07-21T07:48:44.246621",
     "exception": false,
     "start_time": "2023-07-21T07:48:44.214658",
     "status": "completed"
    },
    "tags": []
   },
   "outputs": [],
   "source": [
    "# Modelling"
   ]
  },
  {
   "cell_type": "code",
   "execution_count": 32,
   "id": "bef450a4",
   "metadata": {
    "execution": {
     "iopub.execute_input": "2023-07-21T07:48:44.293410Z",
     "iopub.status.busy": "2023-07-21T07:48:44.292696Z",
     "iopub.status.idle": "2023-07-21T07:48:44.299900Z",
     "shell.execute_reply": "2023-07-21T07:48:44.298662Z"
    },
    "papermill": {
     "duration": 0.034064,
     "end_time": "2023-07-21T07:48:44.302709",
     "exception": false,
     "start_time": "2023-07-21T07:48:44.268645",
     "status": "completed"
    },
    "tags": []
   },
   "outputs": [],
   "source": [
    "# Dependent variable\n",
    "y = df[[\"sales\"]]\n",
    "\n",
    "# Independent variable\n",
    "X = df.drop('sales', axis=1)"
   ]
  },
  {
   "cell_type": "code",
   "execution_count": 33,
   "id": "24f6a19a",
   "metadata": {
    "execution": {
     "iopub.execute_input": "2023-07-21T07:48:44.351584Z",
     "iopub.status.busy": "2023-07-21T07:48:44.350778Z",
     "iopub.status.idle": "2023-07-21T07:48:44.358311Z",
     "shell.execute_reply": "2023-07-21T07:48:44.357449Z"
    },
    "papermill": {
     "duration": 0.034158,
     "end_time": "2023-07-21T07:48:44.360742",
     "exception": false,
     "start_time": "2023-07-21T07:48:44.326584",
     "status": "completed"
    },
    "tags": []
   },
   "outputs": [],
   "source": [
    "X_train, X_test, y_train, y_test = train_test_split(X, y, test_size=0.20, random_state=1)"
   ]
  },
  {
   "cell_type": "code",
   "execution_count": 34,
   "id": "f6eb6ee2",
   "metadata": {
    "execution": {
     "iopub.execute_input": "2023-07-21T07:48:44.409143Z",
     "iopub.status.busy": "2023-07-21T07:48:44.408405Z",
     "iopub.status.idle": "2023-07-21T07:48:44.414833Z",
     "shell.execute_reply": "2023-07-21T07:48:44.413730Z"
    },
    "papermill": {
     "duration": 0.032667,
     "end_time": "2023-07-21T07:48:44.417031",
     "exception": false,
     "start_time": "2023-07-21T07:48:44.384364",
     "status": "completed"
    },
    "tags": []
   },
   "outputs": [
    {
     "data": {
      "text/plain": [
       "(160, 3)"
      ]
     },
     "execution_count": 34,
     "metadata": {},
     "output_type": "execute_result"
    }
   ],
   "source": [
    "X_train.shape"
   ]
  },
  {
   "cell_type": "code",
   "execution_count": 35,
   "id": "5e81000a",
   "metadata": {
    "execution": {
     "iopub.execute_input": "2023-07-21T07:48:44.466062Z",
     "iopub.status.busy": "2023-07-21T07:48:44.465363Z",
     "iopub.status.idle": "2023-07-21T07:48:44.471741Z",
     "shell.execute_reply": "2023-07-21T07:48:44.470605Z"
    },
    "papermill": {
     "duration": 0.034718,
     "end_time": "2023-07-21T07:48:44.474187",
     "exception": false,
     "start_time": "2023-07-21T07:48:44.439469",
     "status": "completed"
    },
    "tags": []
   },
   "outputs": [
    {
     "data": {
      "text/plain": [
       "(40, 3)"
      ]
     },
     "execution_count": 35,
     "metadata": {},
     "output_type": "execute_result"
    }
   ],
   "source": [
    "X_test.shape"
   ]
  },
  {
   "cell_type": "code",
   "execution_count": 36,
   "id": "7a957c74",
   "metadata": {
    "execution": {
     "iopub.execute_input": "2023-07-21T07:48:44.522065Z",
     "iopub.status.busy": "2023-07-21T07:48:44.521646Z",
     "iopub.status.idle": "2023-07-21T07:48:44.528784Z",
     "shell.execute_reply": "2023-07-21T07:48:44.527544Z"
    },
    "papermill": {
     "duration": 0.035074,
     "end_time": "2023-07-21T07:48:44.531895",
     "exception": false,
     "start_time": "2023-07-21T07:48:44.496821",
     "status": "completed"
    },
    "tags": []
   },
   "outputs": [
    {
     "data": {
      "text/plain": [
       "(40, 1)"
      ]
     },
     "execution_count": 36,
     "metadata": {},
     "output_type": "execute_result"
    }
   ],
   "source": [
    "y_test.shape"
   ]
  },
  {
   "cell_type": "code",
   "execution_count": 37,
   "id": "808bb817",
   "metadata": {
    "execution": {
     "iopub.execute_input": "2023-07-21T07:48:44.580847Z",
     "iopub.status.busy": "2023-07-21T07:48:44.580401Z",
     "iopub.status.idle": "2023-07-21T07:48:44.588460Z",
     "shell.execute_reply": "2023-07-21T07:48:44.587101Z"
    },
    "papermill": {
     "duration": 0.034399,
     "end_time": "2023-07-21T07:48:44.590926",
     "exception": false,
     "start_time": "2023-07-21T07:48:44.556527",
     "status": "completed"
    },
    "tags": []
   },
   "outputs": [
    {
     "data": {
      "text/plain": [
       "(160, 1)"
      ]
     },
     "execution_count": 37,
     "metadata": {},
     "output_type": "execute_result"
    }
   ],
   "source": [
    "y_train.shape"
   ]
  },
  {
   "cell_type": "code",
   "execution_count": 38,
   "id": "603a1c48",
   "metadata": {
    "execution": {
     "iopub.execute_input": "2023-07-21T07:48:44.639000Z",
     "iopub.status.busy": "2023-07-21T07:48:44.638616Z",
     "iopub.status.idle": "2023-07-21T07:48:44.643792Z",
     "shell.execute_reply": "2023-07-21T07:48:44.642731Z"
    },
    "papermill": {
     "duration": 0.032533,
     "end_time": "2023-07-21T07:48:44.646664",
     "exception": false,
     "start_time": "2023-07-21T07:48:44.614131",
     "status": "completed"
    },
    "tags": []
   },
   "outputs": [],
   "source": [
    "# The model object was created and fit was done.\n",
    "reg_model = LinearRegression()"
   ]
  },
  {
   "cell_type": "code",
   "execution_count": 39,
   "id": "16ae58cd",
   "metadata": {
    "execution": {
     "iopub.execute_input": "2023-07-21T07:48:44.696848Z",
     "iopub.status.busy": "2023-07-21T07:48:44.696459Z",
     "iopub.status.idle": "2023-07-21T07:48:44.719820Z",
     "shell.execute_reply": "2023-07-21T07:48:44.718794Z"
    },
    "papermill": {
     "duration": 0.051349,
     "end_time": "2023-07-21T07:48:44.722243",
     "exception": false,
     "start_time": "2023-07-21T07:48:44.670894",
     "status": "completed"
    },
    "tags": []
   },
   "outputs": [
    {
     "data": {
      "text/html": [
       "<style>#sk-container-id-1 {color: black;background-color: white;}#sk-container-id-1 pre{padding: 0;}#sk-container-id-1 div.sk-toggleable {background-color: white;}#sk-container-id-1 label.sk-toggleable__label {cursor: pointer;display: block;width: 100%;margin-bottom: 0;padding: 0.3em;box-sizing: border-box;text-align: center;}#sk-container-id-1 label.sk-toggleable__label-arrow:before {content: \"▸\";float: left;margin-right: 0.25em;color: #696969;}#sk-container-id-1 label.sk-toggleable__label-arrow:hover:before {color: black;}#sk-container-id-1 div.sk-estimator:hover label.sk-toggleable__label-arrow:before {color: black;}#sk-container-id-1 div.sk-toggleable__content {max-height: 0;max-width: 0;overflow: hidden;text-align: left;background-color: #f0f8ff;}#sk-container-id-1 div.sk-toggleable__content pre {margin: 0.2em;color: black;border-radius: 0.25em;background-color: #f0f8ff;}#sk-container-id-1 input.sk-toggleable__control:checked~div.sk-toggleable__content {max-height: 200px;max-width: 100%;overflow: auto;}#sk-container-id-1 input.sk-toggleable__control:checked~label.sk-toggleable__label-arrow:before {content: \"▾\";}#sk-container-id-1 div.sk-estimator input.sk-toggleable__control:checked~label.sk-toggleable__label {background-color: #d4ebff;}#sk-container-id-1 div.sk-label input.sk-toggleable__control:checked~label.sk-toggleable__label {background-color: #d4ebff;}#sk-container-id-1 input.sk-hidden--visually {border: 0;clip: rect(1px 1px 1px 1px);clip: rect(1px, 1px, 1px, 1px);height: 1px;margin: -1px;overflow: hidden;padding: 0;position: absolute;width: 1px;}#sk-container-id-1 div.sk-estimator {font-family: monospace;background-color: #f0f8ff;border: 1px dotted black;border-radius: 0.25em;box-sizing: border-box;margin-bottom: 0.5em;}#sk-container-id-1 div.sk-estimator:hover {background-color: #d4ebff;}#sk-container-id-1 div.sk-parallel-item::after {content: \"\";width: 100%;border-bottom: 1px solid gray;flex-grow: 1;}#sk-container-id-1 div.sk-label:hover label.sk-toggleable__label {background-color: #d4ebff;}#sk-container-id-1 div.sk-serial::before {content: \"\";position: absolute;border-left: 1px solid gray;box-sizing: border-box;top: 0;bottom: 0;left: 50%;z-index: 0;}#sk-container-id-1 div.sk-serial {display: flex;flex-direction: column;align-items: center;background-color: white;padding-right: 0.2em;padding-left: 0.2em;position: relative;}#sk-container-id-1 div.sk-item {position: relative;z-index: 1;}#sk-container-id-1 div.sk-parallel {display: flex;align-items: stretch;justify-content: center;background-color: white;position: relative;}#sk-container-id-1 div.sk-item::before, #sk-container-id-1 div.sk-parallel-item::before {content: \"\";position: absolute;border-left: 1px solid gray;box-sizing: border-box;top: 0;bottom: 0;left: 50%;z-index: -1;}#sk-container-id-1 div.sk-parallel-item {display: flex;flex-direction: column;z-index: 1;position: relative;background-color: white;}#sk-container-id-1 div.sk-parallel-item:first-child::after {align-self: flex-end;width: 50%;}#sk-container-id-1 div.sk-parallel-item:last-child::after {align-self: flex-start;width: 50%;}#sk-container-id-1 div.sk-parallel-item:only-child::after {width: 0;}#sk-container-id-1 div.sk-dashed-wrapped {border: 1px dashed gray;margin: 0 0.4em 0.5em 0.4em;box-sizing: border-box;padding-bottom: 0.4em;background-color: white;}#sk-container-id-1 div.sk-label label {font-family: monospace;font-weight: bold;display: inline-block;line-height: 1.2em;}#sk-container-id-1 div.sk-label-container {text-align: center;}#sk-container-id-1 div.sk-container {/* jupyter's `normalize.less` sets `[hidden] { display: none; }` but bootstrap.min.css set `[hidden] { display: none !important; }` so we also need the `!important` here to be able to override the default hidden behavior on the sphinx rendered scikit-learn.org. See: https://github.com/scikit-learn/scikit-learn/issues/21755 */display: inline-block !important;position: relative;}#sk-container-id-1 div.sk-text-repr-fallback {display: none;}</style><div id=\"sk-container-id-1\" class=\"sk-top-container\"><div class=\"sk-text-repr-fallback\"><pre>LinearRegression()</pre><b>In a Jupyter environment, please rerun this cell to show the HTML representation or trust the notebook. <br />On GitHub, the HTML representation is unable to render, please try loading this page with nbviewer.org.</b></div><div class=\"sk-container\" hidden><div class=\"sk-item\"><div class=\"sk-estimator sk-toggleable\"><input class=\"sk-toggleable__control sk-hidden--visually\" id=\"sk-estimator-id-1\" type=\"checkbox\" checked><label for=\"sk-estimator-id-1\" class=\"sk-toggleable__label sk-toggleable__label-arrow\">LinearRegression</label><div class=\"sk-toggleable__content\"><pre>LinearRegression()</pre></div></div></div></div></div>"
      ],
      "text/plain": [
       "LinearRegression()"
      ]
     },
     "execution_count": 39,
     "metadata": {},
     "output_type": "execute_result"
    }
   ],
   "source": [
    "reg_model.fit(X_train, y_train)"
   ]
  },
  {
   "cell_type": "code",
   "execution_count": 40,
   "id": "71892adc",
   "metadata": {
    "execution": {
     "iopub.execute_input": "2023-07-21T07:48:44.771301Z",
     "iopub.status.busy": "2023-07-21T07:48:44.770770Z",
     "iopub.status.idle": "2023-07-21T07:48:44.778880Z",
     "shell.execute_reply": "2023-07-21T07:48:44.777507Z"
    },
    "papermill": {
     "duration": 0.035933,
     "end_time": "2023-07-21T07:48:44.781296",
     "exception": false,
     "start_time": "2023-07-21T07:48:44.745363",
     "status": "completed"
    },
    "tags": []
   },
   "outputs": [
    {
     "data": {
      "text/plain": [
       "2.907947020816433"
      ]
     },
     "execution_count": 40,
     "metadata": {},
     "output_type": "execute_result"
    }
   ],
   "source": [
    "# constant (b - bias)\n",
    "\n",
    "reg_model.intercept_[0]"
   ]
  },
  {
   "cell_type": "code",
   "execution_count": 41,
   "id": "e8fe9597",
   "metadata": {
    "execution": {
     "iopub.execute_input": "2023-07-21T07:48:44.832192Z",
     "iopub.status.busy": "2023-07-21T07:48:44.831773Z",
     "iopub.status.idle": "2023-07-21T07:48:44.838909Z",
     "shell.execute_reply": "2023-07-21T07:48:44.837690Z"
    },
    "papermill": {
     "duration": 0.036051,
     "end_time": "2023-07-21T07:48:44.841283",
     "exception": false,
     "start_time": "2023-07-21T07:48:44.805232",
     "status": "completed"
    },
    "tags": []
   },
   "outputs": [
    {
     "data": {
      "text/plain": [
       "0.04684310317699042"
      ]
     },
     "execution_count": 41,
     "metadata": {},
     "output_type": "execute_result"
    }
   ],
   "source": [
    "# coefficients (w - weights)\n",
    "\n",
    "reg_model.coef_[0][0]"
   ]
  },
  {
   "cell_type": "code",
   "execution_count": 42,
   "id": "46b15722",
   "metadata": {
    "execution": {
     "iopub.execute_input": "2023-07-21T07:48:44.889554Z",
     "iopub.status.busy": "2023-07-21T07:48:44.889072Z",
     "iopub.status.idle": "2023-07-21T07:48:44.893781Z",
     "shell.execute_reply": "2023-07-21T07:48:44.892632Z"
    },
    "papermill": {
     "duration": 0.03177,
     "end_time": "2023-07-21T07:48:44.896128",
     "exception": false,
     "start_time": "2023-07-21T07:48:44.864358",
     "status": "completed"
    },
    "tags": []
   },
   "outputs": [],
   "source": [
    "# Prediction"
   ]
  },
  {
   "cell_type": "code",
   "execution_count": 43,
   "id": "cdd60f36",
   "metadata": {
    "execution": {
     "iopub.execute_input": "2023-07-21T07:48:44.945541Z",
     "iopub.status.busy": "2023-07-21T07:48:44.944872Z",
     "iopub.status.idle": "2023-07-21T07:48:44.952838Z",
     "shell.execute_reply": "2023-07-21T07:48:44.951792Z"
    },
    "papermill": {
     "duration": 0.035436,
     "end_time": "2023-07-21T07:48:44.955483",
     "exception": false,
     "start_time": "2023-07-21T07:48:44.920047",
     "status": "completed"
    },
    "tags": []
   },
   "outputs": [
    {
     "data": {
      "text/plain": [
       "6.202131116126146"
      ]
     },
     "execution_count": 43,
     "metadata": {},
     "output_type": "execute_result"
    }
   ],
   "source": [
    "# What is the expected value of the sale according to the following observation values?\n",
    "\n",
    "# TV: 30\n",
    "# radio: 10\n",
    "# newspaper 40\n",
    "\n",
    "# Model Equation\n",
    "# y_pred = b + w*xi\n",
    "# Sales = 2.907947020816433 + TV * 0.04684310317699042 + radio * 0.17854434 + newspaper * 0.00258619\n",
    "\n",
    "2.907947020816433 + 30 * 0.04684310317699042 + 10 * 0.17854434 + 40 * 0.00258619"
   ]
  },
  {
   "cell_type": "code",
   "execution_count": 44,
   "id": "512da869",
   "metadata": {
    "execution": {
     "iopub.execute_input": "2023-07-21T07:48:45.010801Z",
     "iopub.status.busy": "2023-07-21T07:48:45.010394Z",
     "iopub.status.idle": "2023-07-21T07:48:45.016587Z",
     "shell.execute_reply": "2023-07-21T07:48:45.015104Z"
    },
    "papermill": {
     "duration": 0.039814,
     "end_time": "2023-07-21T07:48:45.020017",
     "exception": false,
     "start_time": "2023-07-21T07:48:44.980203",
     "status": "completed"
    },
    "tags": []
   },
   "outputs": [],
   "source": [
    "new_data = [[30], [10], [40]]"
   ]
  },
  {
   "cell_type": "code",
   "execution_count": 45,
   "id": "5982418b",
   "metadata": {
    "execution": {
     "iopub.execute_input": "2023-07-21T07:48:45.069812Z",
     "iopub.status.busy": "2023-07-21T07:48:45.069408Z",
     "iopub.status.idle": "2023-07-21T07:48:45.075847Z",
     "shell.execute_reply": "2023-07-21T07:48:45.074220Z"
    },
    "papermill": {
     "duration": 0.034728,
     "end_time": "2023-07-21T07:48:45.078761",
     "exception": false,
     "start_time": "2023-07-21T07:48:45.044033",
     "status": "completed"
    },
    "tags": []
   },
   "outputs": [],
   "source": [
    "new_data = pd.DataFrame(new_data).T"
   ]
  },
  {
   "cell_type": "code",
   "execution_count": 46,
   "id": "1e57fe65",
   "metadata": {
    "execution": {
     "iopub.execute_input": "2023-07-21T07:48:45.128943Z",
     "iopub.status.busy": "2023-07-21T07:48:45.128544Z",
     "iopub.status.idle": "2023-07-21T07:48:45.139753Z",
     "shell.execute_reply": "2023-07-21T07:48:45.138750Z"
    },
    "papermill": {
     "duration": 0.040601,
     "end_time": "2023-07-21T07:48:45.142571",
     "exception": false,
     "start_time": "2023-07-21T07:48:45.101970",
     "status": "completed"
    },
    "tags": []
   },
   "outputs": [
    {
     "name": "stderr",
     "output_type": "stream",
     "text": [
      "/opt/conda/lib/python3.10/site-packages/sklearn/base.py:439: UserWarning: X does not have valid feature names, but LinearRegression was fitted with feature names\n",
      "  warnings.warn(\n"
     ]
    },
    {
     "data": {
      "text/plain": [
       "array([[6.202131]])"
      ]
     },
     "execution_count": 46,
     "metadata": {},
     "output_type": "execute_result"
    }
   ],
   "source": [
    "reg_model.predict(new_data)"
   ]
  },
  {
   "cell_type": "code",
   "execution_count": 47,
   "id": "fa8ad762",
   "metadata": {
    "execution": {
     "iopub.execute_input": "2023-07-21T07:48:45.191273Z",
     "iopub.status.busy": "2023-07-21T07:48:45.190872Z",
     "iopub.status.idle": "2023-07-21T07:48:45.196532Z",
     "shell.execute_reply": "2023-07-21T07:48:45.195638Z"
    },
    "papermill": {
     "duration": 0.032656,
     "end_time": "2023-07-21T07:48:45.198626",
     "exception": false,
     "start_time": "2023-07-21T07:48:45.165970",
     "status": "completed"
    },
    "tags": []
   },
   "outputs": [],
   "source": [
    "# Prediction Success"
   ]
  },
  {
   "cell_type": "code",
   "execution_count": 48,
   "id": "e5272ebf",
   "metadata": {
    "execution": {
     "iopub.execute_input": "2023-07-21T07:48:45.248419Z",
     "iopub.status.busy": "2023-07-21T07:48:45.247017Z",
     "iopub.status.idle": "2023-07-21T07:48:45.261798Z",
     "shell.execute_reply": "2023-07-21T07:48:45.260519Z"
    },
    "papermill": {
     "duration": 0.04197,
     "end_time": "2023-07-21T07:48:45.264197",
     "exception": false,
     "start_time": "2023-07-21T07:48:45.222227",
     "status": "completed"
    },
    "tags": []
   },
   "outputs": [
    {
     "data": {
      "text/plain": [
       "0.8959372632325174"
      ]
     },
     "execution_count": 48,
     "metadata": {},
     "output_type": "execute_result"
    }
   ],
   "source": [
    "# Train RMSE\n",
    "\n",
    "y_pred = reg_model.predict(X_train)\n",
    "\n",
    "np.sqrt(mean_squared_error(y_train, y_pred))\n",
    "\n",
    "reg_model.score(X_train, y_train)"
   ]
  },
  {
   "cell_type": "code",
   "execution_count": 49,
   "id": "9f74ef2a",
   "metadata": {
    "execution": {
     "iopub.execute_input": "2023-07-21T07:48:45.314291Z",
     "iopub.status.busy": "2023-07-21T07:48:45.313840Z",
     "iopub.status.idle": "2023-07-21T07:48:45.329386Z",
     "shell.execute_reply": "2023-07-21T07:48:45.328512Z"
    },
    "papermill": {
     "duration": 0.04352,
     "end_time": "2023-07-21T07:48:45.332028",
     "exception": false,
     "start_time": "2023-07-21T07:48:45.288508",
     "status": "completed"
    },
    "tags": []
   },
   "outputs": [
    {
     "data": {
      "text/plain": [
       "0.8927605914615384"
      ]
     },
     "execution_count": 49,
     "metadata": {},
     "output_type": "execute_result"
    }
   ],
   "source": [
    "# Test RMSE\n",
    "y_pred = reg_model.predict(X_test)\n",
    "np.sqrt(mean_squared_error(y_test, y_pred))\n",
    "\n",
    "reg_model.score(X_test, y_test)"
   ]
  },
  {
   "cell_type": "code",
   "execution_count": 50,
   "id": "12e42e35",
   "metadata": {
    "execution": {
     "iopub.execute_input": "2023-07-21T07:48:45.382866Z",
     "iopub.status.busy": "2023-07-21T07:48:45.382464Z",
     "iopub.status.idle": "2023-07-21T07:48:45.462307Z",
     "shell.execute_reply": "2023-07-21T07:48:45.461111Z"
    },
    "papermill": {
     "duration": 0.107779,
     "end_time": "2023-07-21T07:48:45.464893",
     "exception": false,
     "start_time": "2023-07-21T07:48:45.357114",
     "status": "completed"
    },
    "tags": []
   },
   "outputs": [
    {
     "data": {
      "text/plain": [
       "1.6913531708051797"
      ]
     },
     "execution_count": 50,
     "metadata": {},
     "output_type": "execute_result"
    }
   ],
   "source": [
    "# 10 Fold CV RMSE\n",
    "\n",
    "np.mean(np.sqrt(-cross_val_score(reg_model,\n",
    "                                 X,\n",
    "                                 y,\n",
    "                                 cv=10,\n",
    "                                 scoring=\"neg_mean_squared_error\")))"
   ]
  },
  {
   "cell_type": "code",
   "execution_count": 51,
   "id": "43262aca",
   "metadata": {
    "execution": {
     "iopub.execute_input": "2023-07-21T07:48:45.515528Z",
     "iopub.status.busy": "2023-07-21T07:48:45.514472Z",
     "iopub.status.idle": "2023-07-21T07:48:45.562241Z",
     "shell.execute_reply": "2023-07-21T07:48:45.560825Z"
    },
    "papermill": {
     "duration": 0.075847,
     "end_time": "2023-07-21T07:48:45.565199",
     "exception": false,
     "start_time": "2023-07-21T07:48:45.489352",
     "status": "completed"
    },
    "tags": []
   },
   "outputs": [
    {
     "data": {
      "text/plain": [
       "1.7175247278732086"
      ]
     },
     "execution_count": 51,
     "metadata": {},
     "output_type": "execute_result"
    }
   ],
   "source": [
    "# 5 Fold CV RMSE\n",
    "\n",
    "np.mean(np.sqrt(-cross_val_score(reg_model,\n",
    "                                 X,\n",
    "                                 y,\n",
    "                                 cv=5,\n",
    "                                 scoring=\"neg_mean_squared_error\")))"
   ]
  },
  {
   "cell_type": "markdown",
   "id": "d20640db",
   "metadata": {
    "papermill": {
     "duration": 0.024322,
     "end_time": "2023-07-21T07:48:45.615520",
     "exception": false,
     "start_time": "2023-07-21T07:48:45.591198",
     "status": "completed"
    },
    "tags": []
   },
   "source": [
    "# 6. Simple Linear Regression with Gradient Descent from Scratch"
   ]
  },
  {
   "cell_type": "code",
   "execution_count": 52,
   "id": "2637735e",
   "metadata": {
    "execution": {
     "iopub.execute_input": "2023-07-21T07:48:45.667680Z",
     "iopub.status.busy": "2023-07-21T07:48:45.667276Z",
     "iopub.status.idle": "2023-07-21T07:48:45.674219Z",
     "shell.execute_reply": "2023-07-21T07:48:45.672940Z"
    },
    "papermill": {
     "duration": 0.035443,
     "end_time": "2023-07-21T07:48:45.676650",
     "exception": false,
     "start_time": "2023-07-21T07:48:45.641207",
     "status": "completed"
    },
    "tags": []
   },
   "outputs": [],
   "source": [
    "# Cost function MSE\n",
    "\n",
    "def cost_function(Y, b, w, X):\n",
    "    m = len(Y)\n",
    "    sse = 0 # sum of square error(hata kareler toplamı)\n",
    "\n",
    "    for i in range(0, m):\n",
    "        y_hat = b + w * X[i]\n",
    "        y = Y[i]\n",
    "        sse += (y_hat - y) ** 2\n",
    "\n",
    "    mse = sse / m # m gözlem sayısı\n",
    "    return mse"
   ]
  },
  {
   "cell_type": "code",
   "execution_count": 53,
   "id": "8cd5537e",
   "metadata": {
    "execution": {
     "iopub.execute_input": "2023-07-21T07:48:45.729029Z",
     "iopub.status.busy": "2023-07-21T07:48:45.728617Z",
     "iopub.status.idle": "2023-07-21T07:48:45.736236Z",
     "shell.execute_reply": "2023-07-21T07:48:45.735038Z"
    },
    "papermill": {
     "duration": 0.036508,
     "end_time": "2023-07-21T07:48:45.738735",
     "exception": false,
     "start_time": "2023-07-21T07:48:45.702227",
     "status": "completed"
    },
    "tags": []
   },
   "outputs": [],
   "source": [
    "# update_weights\n",
    "\n",
    "def update_weights(Y, b, w, X, learning_rate): # learning_rate öğrenme hızı\n",
    "    m = len(Y)\n",
    "\n",
    "    b_deriv_sum = 0\n",
    "    w_deriv_sum = 0\n",
    "\n",
    "    for i in range(0, m):\n",
    "        y_hat = b + w * X[i]\n",
    "        y = Y[i]\n",
    "        b_deriv_sum += (y_hat - y)\n",
    "        w_deriv_sum += (y_hat - y) * X[i]\n",
    "\n",
    "    new_b = b - (learning_rate * 1 / m * b_deriv_sum)\n",
    "    new_w = w - (learning_rate * 1 / m * w_deriv_sum)\n",
    "    return new_b, new_w"
   ]
  },
  {
   "cell_type": "code",
   "execution_count": 54,
   "id": "9fc59e34",
   "metadata": {
    "execution": {
     "iopub.execute_input": "2023-07-21T07:48:45.789037Z",
     "iopub.status.busy": "2023-07-21T07:48:45.788660Z",
     "iopub.status.idle": "2023-07-21T07:48:45.797081Z",
     "shell.execute_reply": "2023-07-21T07:48:45.795904Z"
    },
    "papermill": {
     "duration": 0.036724,
     "end_time": "2023-07-21T07:48:45.799580",
     "exception": false,
     "start_time": "2023-07-21T07:48:45.762856",
     "status": "completed"
    },
    "tags": []
   },
   "outputs": [],
   "source": [
    "# Train function\n",
    "\n",
    "def train(Y, initial_b, initial_w, X, learning_rate, num_iters):\n",
    "\n",
    "    print(\"Starting gradient descent at b = {0}, w = {1}, mse = {2}\".format(initial_b, initial_w,\n",
    "                                                                   cost_function(Y, initial_b, initial_w, X)))\n",
    "\n",
    "    b = initial_b\n",
    "    w = initial_w\n",
    "    cost_history = []\n",
    "\n",
    "    for i in range(num_iters):\n",
    "        b, w = update_weights(Y, b, w, X, learning_rate)\n",
    "        mse = cost_function(Y, b, w, X)\n",
    "        cost_history.append(mse)\n",
    "\n",
    "\n",
    "        if i % 100 == 0:\n",
    "            print(\"iter={:d}    b={:.2f}    w={:.4f}    mse={:.4}\".format(i, b, w, mse))\n",
    "\n",
    "\n",
    "    print(\"After {0} iterations b = {1}, w = {2}, mse = {3}\".format(num_iters, b, w, cost_function(Y, b, w, X)))\n",
    "    return cost_history, b, w"
   ]
  },
  {
   "cell_type": "code",
   "execution_count": 55,
   "id": "c6631b48",
   "metadata": {
    "execution": {
     "iopub.execute_input": "2023-07-21T07:48:45.851110Z",
     "iopub.status.busy": "2023-07-21T07:48:45.850718Z",
     "iopub.status.idle": "2023-07-21T07:48:45.858630Z",
     "shell.execute_reply": "2023-07-21T07:48:45.857414Z"
    },
    "papermill": {
     "duration": 0.038318,
     "end_time": "2023-07-21T07:48:45.862090",
     "exception": false,
     "start_time": "2023-07-21T07:48:45.823772",
     "status": "completed"
    },
    "tags": []
   },
   "outputs": [],
   "source": [
    "dfff = pd.read_csv(\"/kaggle/input/advertisingcsv/advertising.csv\")"
   ]
  },
  {
   "cell_type": "code",
   "execution_count": 56,
   "id": "8d76e690",
   "metadata": {
    "execution": {
     "iopub.execute_input": "2023-07-21T07:48:45.912223Z",
     "iopub.status.busy": "2023-07-21T07:48:45.911818Z",
     "iopub.status.idle": "2023-07-21T07:48:45.917878Z",
     "shell.execute_reply": "2023-07-21T07:48:45.916362Z"
    },
    "papermill": {
     "duration": 0.034794,
     "end_time": "2023-07-21T07:48:45.921029",
     "exception": false,
     "start_time": "2023-07-21T07:48:45.886235",
     "status": "completed"
    },
    "tags": []
   },
   "outputs": [],
   "source": [
    "Y = dfff[\"sales\"]"
   ]
  },
  {
   "cell_type": "code",
   "execution_count": 57,
   "id": "0aa4a3b3",
   "metadata": {
    "execution": {
     "iopub.execute_input": "2023-07-21T07:48:45.973340Z",
     "iopub.status.busy": "2023-07-21T07:48:45.972516Z",
     "iopub.status.idle": "2023-07-21T07:48:45.977981Z",
     "shell.execute_reply": "2023-07-21T07:48:45.976955Z"
    },
    "papermill": {
     "duration": 0.034515,
     "end_time": "2023-07-21T07:48:45.980045",
     "exception": false,
     "start_time": "2023-07-21T07:48:45.945530",
     "status": "completed"
    },
    "tags": []
   },
   "outputs": [],
   "source": [
    "X = dfff[\"radio\"]"
   ]
  },
  {
   "cell_type": "code",
   "execution_count": 58,
   "id": "50531d52",
   "metadata": {
    "execution": {
     "iopub.execute_input": "2023-07-21T07:48:46.032392Z",
     "iopub.status.busy": "2023-07-21T07:48:46.031904Z",
     "iopub.status.idle": "2023-07-21T07:48:46.037367Z",
     "shell.execute_reply": "2023-07-21T07:48:46.036188Z"
    },
    "papermill": {
     "duration": 0.034324,
     "end_time": "2023-07-21T07:48:46.039689",
     "exception": false,
     "start_time": "2023-07-21T07:48:46.005365",
     "status": "completed"
    },
    "tags": []
   },
   "outputs": [],
   "source": [
    "learning_rate = 0.001\n",
    "initial_b = 0.001\n",
    "initial_w = 0.001\n",
    "num_iters = 10000"
   ]
  },
  {
   "cell_type": "code",
   "execution_count": 59,
   "id": "7a75d007",
   "metadata": {
    "execution": {
     "iopub.execute_input": "2023-07-21T07:48:46.090931Z",
     "iopub.status.busy": "2023-07-21T07:48:46.090554Z",
     "iopub.status.idle": "2023-07-21T07:49:47.143636Z",
     "shell.execute_reply": "2023-07-21T07:49:47.142509Z"
    },
    "papermill": {
     "duration": 61.082028,
     "end_time": "2023-07-21T07:49:47.146323",
     "exception": false,
     "start_time": "2023-07-21T07:48:46.064295",
     "status": "completed"
    },
    "tags": []
   },
   "outputs": [
    {
     "name": "stdout",
     "output_type": "stream",
     "text": [
      "Starting gradient descent at b = 0.001, w = 0.001, mse = 222.9477491673001\n",
      "iter=0    b=0.01    w=0.3708    mse=53.25\n",
      "iter=100    b=0.28    w=0.4788    mse=41.6\n",
      "iter=200    b=0.54    w=0.4709    mse=40.29\n",
      "iter=300    b=0.79    w=0.4633    mse=39.04\n",
      "iter=400    b=1.03    w=0.4559    mse=37.87\n",
      "iter=500    b=1.27    w=0.4487    mse=36.76\n",
      "iter=600    b=1.49    w=0.4417    mse=35.72\n",
      "iter=700    b=1.72    w=0.4349    mse=34.73\n",
      "iter=800    b=1.93    w=0.4283    mse=33.8\n",
      "iter=900    b=2.14    w=0.4219    mse=32.92\n",
      "iter=1000    b=2.35    w=0.4157    mse=32.09\n",
      "iter=1100    b=2.54    w=0.4096    mse=31.3\n",
      "iter=1200    b=2.74    w=0.4037    mse=30.56\n",
      "iter=1300    b=2.92    w=0.3980    mse=29.87\n",
      "iter=1400    b=3.10    w=0.3925    mse=29.21\n",
      "iter=1500    b=3.28    w=0.3871    mse=28.58\n",
      "iter=1600    b=3.45    w=0.3818    mse=28.0\n",
      "iter=1700    b=3.62    w=0.3767    mse=27.44\n",
      "iter=1800    b=3.78    w=0.3718    mse=26.92\n",
      "iter=1900    b=3.94    w=0.3670    mse=26.42\n",
      "iter=2000    b=4.09    w=0.3623    mse=25.96\n",
      "iter=2100    b=4.24    w=0.3578    mse=25.52\n",
      "iter=2200    b=4.38    w=0.3534    mse=25.1\n",
      "iter=2300    b=4.52    w=0.3491    mse=24.71\n",
      "iter=2400    b=4.66    w=0.3449    mse=24.34\n",
      "iter=2500    b=4.79    w=0.3409    mse=23.99\n",
      "iter=2600    b=4.92    w=0.3369    mse=23.66\n",
      "iter=2700    b=5.04    w=0.3331    mse=23.35\n",
      "iter=2800    b=5.16    w=0.3294    mse=23.05\n",
      "iter=2900    b=5.28    w=0.3258    mse=22.77\n",
      "iter=3000    b=5.40    w=0.3223    mse=22.51\n",
      "iter=3100    b=5.51    w=0.3189    mse=22.26\n",
      "iter=3200    b=5.62    w=0.3156    mse=22.03\n",
      "iter=3300    b=5.72    w=0.3124    mse=21.81\n",
      "iter=3400    b=5.82    w=0.3093    mse=21.6\n",
      "iter=3500    b=5.92    w=0.3062    mse=21.41\n",
      "iter=3600    b=6.02    w=0.3033    mse=21.22\n",
      "iter=3700    b=6.11    w=0.3004    mse=21.05\n",
      "iter=3800    b=6.20    w=0.2976    mse=20.88\n",
      "iter=3900    b=6.29    w=0.2949    mse=20.72\n",
      "iter=4000    b=6.38    w=0.2923    mse=20.58\n",
      "iter=4100    b=6.46    w=0.2898    mse=20.44\n",
      "iter=4200    b=6.54    w=0.2873    mse=20.31\n",
      "iter=4300    b=6.62    w=0.2849    mse=20.18\n",
      "iter=4400    b=6.70    w=0.2825    mse=20.06\n",
      "iter=4500    b=6.77    w=0.2803    mse=19.95\n",
      "iter=4600    b=6.84    w=0.2780    mse=19.85\n",
      "iter=4700    b=6.91    w=0.2759    mse=19.75\n",
      "iter=4800    b=6.98    w=0.2738    mse=19.66\n",
      "iter=4900    b=7.05    w=0.2718    mse=19.57\n",
      "iter=5000    b=7.11    w=0.2698    mse=19.49\n",
      "iter=5100    b=7.17    w=0.2679    mse=19.41\n",
      "iter=5200    b=7.23    w=0.2660    mse=19.34\n",
      "iter=5300    b=7.29    w=0.2642    mse=19.27\n",
      "iter=5400    b=7.35    w=0.2625    mse=19.2\n",
      "iter=5500    b=7.41    w=0.2608    mse=19.14\n",
      "iter=5600    b=7.46    w=0.2591    mse=19.08\n",
      "iter=5700    b=7.51    w=0.2575    mse=19.02\n",
      "iter=5800    b=7.56    w=0.2560    mse=18.97\n",
      "iter=5900    b=7.61    w=0.2544    mse=18.92\n",
      "iter=6000    b=7.66    w=0.2530    mse=18.88\n",
      "iter=6100    b=7.71    w=0.2515    mse=18.83\n",
      "iter=6200    b=7.75    w=0.2501    mse=18.79\n",
      "iter=6300    b=7.80    w=0.2488    mse=18.75\n",
      "iter=6400    b=7.84    w=0.2475    mse=18.72\n",
      "iter=6500    b=7.88    w=0.2462    mse=18.68\n",
      "iter=6600    b=7.92    w=0.2450    mse=18.65\n",
      "iter=6700    b=7.96    w=0.2437    mse=18.62\n",
      "iter=6800    b=8.00    w=0.2426    mse=18.59\n",
      "iter=6900    b=8.04    w=0.2414    mse=18.56\n",
      "iter=7000    b=8.08    w=0.2403    mse=18.53\n",
      "iter=7100    b=8.11    w=0.2393    mse=18.51\n",
      "iter=7200    b=8.14    w=0.2382    mse=18.49\n",
      "iter=7300    b=8.18    w=0.2372    mse=18.46\n",
      "iter=7400    b=8.21    w=0.2362    mse=18.44\n",
      "iter=7500    b=8.24    w=0.2353    mse=18.42\n",
      "iter=7600    b=8.27    w=0.2343    mse=18.4\n",
      "iter=7700    b=8.30    w=0.2334    mse=18.39\n",
      "iter=7800    b=8.33    w=0.2325    mse=18.37\n",
      "iter=7900    b=8.36    w=0.2317    mse=18.35\n",
      "iter=8000    b=8.38    w=0.2309    mse=18.34\n",
      "iter=8100    b=8.41    w=0.2301    mse=18.33\n",
      "iter=8200    b=8.44    w=0.2293    mse=18.31\n",
      "iter=8300    b=8.46    w=0.2285    mse=18.3\n",
      "iter=8400    b=8.49    w=0.2278    mse=18.29\n",
      "iter=8500    b=8.51    w=0.2271    mse=18.28\n",
      "iter=8600    b=8.53    w=0.2264    mse=18.27\n",
      "iter=8700    b=8.55    w=0.2257    mse=18.26\n",
      "iter=8800    b=8.58    w=0.2250    mse=18.25\n",
      "iter=8900    b=8.60    w=0.2244    mse=18.24\n",
      "iter=9000    b=8.62    w=0.2238    mse=18.23\n",
      "iter=9100    b=8.64    w=0.2232    mse=18.22\n",
      "iter=9200    b=8.66    w=0.2226    mse=18.22\n",
      "iter=9300    b=8.67    w=0.2220    mse=18.21\n",
      "iter=9400    b=8.69    w=0.2214    mse=18.2\n",
      "iter=9500    b=8.71    w=0.2209    mse=18.2\n",
      "iter=9600    b=8.73    w=0.2204    mse=18.19\n",
      "iter=9700    b=8.74    w=0.2199    mse=18.19\n",
      "iter=9800    b=8.76    w=0.2194    mse=18.18\n",
      "iter=9900    b=8.78    w=0.2189    mse=18.18\n",
      "After 10000 iterations b = 8.79062282139543, w = 0.2184390657183005, mse = 18.170680975262957\n"
     ]
    }
   ],
   "source": [
    "cost_history, b, w = train(Y, initial_b, initial_w, X, learning_rate, num_iters)"
   ]
  }
 ],
 "metadata": {
  "kernelspec": {
   "display_name": "Python 3",
   "language": "python",
   "name": "python3"
  },
  "language_info": {
   "codemirror_mode": {
    "name": "ipython",
    "version": 3
   },
   "file_extension": ".py",
   "mimetype": "text/x-python",
   "name": "python",
   "nbconvert_exporter": "python",
   "pygments_lexer": "ipython3",
   "version": "3.10.12"
  },
  "papermill": {
   "default_parameters": {},
   "duration": 80.484093,
   "end_time": "2023-07-21T07:49:48.201594",
   "environment_variables": {},
   "exception": null,
   "input_path": "__notebook__.ipynb",
   "output_path": "__notebook__.ipynb",
   "parameters": {},
   "start_time": "2023-07-21T07:48:27.717501",
   "version": "2.4.0"
  }
 },
 "nbformat": 4,
 "nbformat_minor": 5
}
